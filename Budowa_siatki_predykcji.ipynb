{
 "cells": [
  {
   "cell_type": "code",
   "execution_count": 1,
   "metadata": {},
   "outputs": [],
   "source": [
    "import pandas as pd\n",
    "import numpy as np\n",
    "from tqdm import tqdm"
   ]
  },
  {
   "cell_type": "code",
   "execution_count": 2,
   "metadata": {},
   "outputs": [],
   "source": [
    "dfGPS = pd.read_excel(\"../input_7.1.2018/GPS_Mapa_Krzysiek.xlsx\")\n",
    "# Ładowanie siatki predykcji\n",
    "df = pd.read_csv(\"../input/gps_10_5.csv\", header=None)"
   ]
  },
  {
   "cell_type": "code",
   "execution_count": 5,
   "metadata": {},
   "outputs": [
    {
     "data": {
      "text/html": [
       "<div>\n",
       "<style scoped>\n",
       "    .dataframe tbody tr th:only-of-type {\n",
       "        vertical-align: middle;\n",
       "    }\n",
       "\n",
       "    .dataframe tbody tr th {\n",
       "        vertical-align: top;\n",
       "    }\n",
       "\n",
       "    .dataframe thead th {\n",
       "        text-align: right;\n",
       "    }\n",
       "</style>\n",
       "<table border=\"1\" class=\"dataframe\">\n",
       "  <thead>\n",
       "    <tr style=\"text-align: right;\">\n",
       "      <th></th>\n",
       "      <th>Miejscowość</th>\n",
       "      <th>IDKSIP zdarzenia</th>\n",
       "      <th>Dzień</th>\n",
       "      <th>Numer drogi</th>\n",
       "      <th>Ulica</th>\n",
       "      <th>GPS x</th>\n",
       "      <th>GPS y</th>\n",
       "      <th>Zachowanie kierującego</th>\n",
       "      <th>Zachowanie pieszego</th>\n",
       "      <th>Inne przyczyny</th>\n",
       "      <th>Liczba wypadków</th>\n",
       "      <th>Liczba zabitych w zdarzeniu</th>\n",
       "      <th>Liczba rannych w zdarzeniu</th>\n",
       "      <th>Liczba kolizji</th>\n",
       "    </tr>\n",
       "  </thead>\n",
       "  <tbody>\n",
       "    <tr>\n",
       "      <th>97942</th>\n",
       "      <td>OCHABY MAŁE</td>\n",
       "      <td>EWK-105491259F</td>\n",
       "      <td>2017-02-27</td>\n",
       "      <td>81</td>\n",
       "      <td>KATOWICKA</td>\n",
       "      <td>18*46'079</td>\n",
       "      <td>49*50'322</td>\n",
       "      <td>Niestosowanie się do sygnalizacji świetlnej</td>\n",
       "      <td>NaN</td>\n",
       "      <td>NaN</td>\n",
       "      <td>0</td>\n",
       "      <td>0</td>\n",
       "      <td>0</td>\n",
       "      <td>1</td>\n",
       "    </tr>\n",
       "    <tr>\n",
       "      <th>38131</th>\n",
       "      <td>BIERUŃ</td>\n",
       "      <td>EWK-104815256A</td>\n",
       "      <td>2016-09-06</td>\n",
       "      <td>W931</td>\n",
       "      <td>TURYSTYCZNA</td>\n",
       "      <td>19*06'514</td>\n",
       "      <td>50*04'004</td>\n",
       "      <td>Nieustąpienie pierwszeństwa przejazdu</td>\n",
       "      <td>NaN</td>\n",
       "      <td>NaN</td>\n",
       "      <td>0</td>\n",
       "      <td>0</td>\n",
       "      <td>0</td>\n",
       "      <td>1</td>\n",
       "    </tr>\n",
       "    <tr>\n",
       "      <th>84534</th>\n",
       "      <td>CZERWIONKA-LESZCZYNY</td>\n",
       "      <td>EWK-106609112A</td>\n",
       "      <td>2017-12-10</td>\n",
       "      <td>A1A</td>\n",
       "      <td>NaN</td>\n",
       "      <td>18*42'474</td>\n",
       "      <td>50*10'401</td>\n",
       "      <td>Inne przyczyny</td>\n",
       "      <td>NaN</td>\n",
       "      <td>NaN</td>\n",
       "      <td>0</td>\n",
       "      <td>0</td>\n",
       "      <td>0</td>\n",
       "      <td>1</td>\n",
       "    </tr>\n",
       "    <tr>\n",
       "      <th>27691</th>\n",
       "      <td>PIEKARY ŚLĄSKIE</td>\n",
       "      <td>EWK-105296690R</td>\n",
       "      <td>2016-12-20</td>\n",
       "      <td>I2</td>\n",
       "      <td>BYTOMSKA</td>\n",
       "      <td>18*56'371</td>\n",
       "      <td>50*22'105</td>\n",
       "      <td>Nieprawidłowe cofanie</td>\n",
       "      <td>NaN</td>\n",
       "      <td>NaN</td>\n",
       "      <td>0</td>\n",
       "      <td>0</td>\n",
       "      <td>0</td>\n",
       "      <td>1</td>\n",
       "    </tr>\n",
       "    <tr>\n",
       "      <th>110778</th>\n",
       "      <td>ŻYWIEC</td>\n",
       "      <td>EWK-106410127H</td>\n",
       "      <td>2017-09-18</td>\n",
       "      <td>W069</td>\n",
       "      <td>WESOŁA</td>\n",
       "      <td>19*10'526</td>\n",
       "      <td>49*41'353</td>\n",
       "      <td>Niedostosowanie prędkości do warunków ruchu</td>\n",
       "      <td>NaN</td>\n",
       "      <td>NaN</td>\n",
       "      <td>0</td>\n",
       "      <td>0</td>\n",
       "      <td>0</td>\n",
       "      <td>1</td>\n",
       "    </tr>\n",
       "  </tbody>\n",
       "</table>\n",
       "</div>"
      ],
      "text/plain": [
       "                 Miejscowość IDKSIP zdarzenia       Dzień Numer drogi  \\\n",
       "97942            OCHABY MAŁE   EWK-105491259F  2017-02-27          81   \n",
       "38131                 BIERUŃ   EWK-104815256A  2016-09-06        W931   \n",
       "84534   CZERWIONKA-LESZCZYNY   EWK-106609112A  2017-12-10         A1A   \n",
       "27691        PIEKARY ŚLĄSKIE   EWK-105296690R  2016-12-20          I2   \n",
       "110778                ŻYWIEC   EWK-106410127H  2017-09-18        W069   \n",
       "\n",
       "              Ulica      GPS x      GPS y  \\\n",
       "97942     KATOWICKA  18*46'079  49*50'322   \n",
       "38131   TURYSTYCZNA  19*06'514  50*04'004   \n",
       "84534           NaN  18*42'474  50*10'401   \n",
       "27691      BYTOMSKA  18*56'371  50*22'105   \n",
       "110778       WESOŁA  19*10'526  49*41'353   \n",
       "\n",
       "                             Zachowanie kierującego Zachowanie pieszego  \\\n",
       "97942   Niestosowanie się do sygnalizacji świetlnej                 NaN   \n",
       "38131         Nieustąpienie pierwszeństwa przejazdu                 NaN   \n",
       "84534                                Inne przyczyny                 NaN   \n",
       "27691                         Nieprawidłowe cofanie                 NaN   \n",
       "110778  Niedostosowanie prędkości do warunków ruchu                 NaN   \n",
       "\n",
       "       Inne przyczyny  Liczba wypadków  Liczba zabitych w zdarzeniu  \\\n",
       "97942             NaN                0                            0   \n",
       "38131             NaN                0                            0   \n",
       "84534             NaN                0                            0   \n",
       "27691             NaN                0                            0   \n",
       "110778            NaN                0                            0   \n",
       "\n",
       "        Liczba rannych w zdarzeniu  Liczba kolizji  \n",
       "97942                            0               1  \n",
       "38131                            0               1  \n",
       "84534                            0               1  \n",
       "27691                            0               1  \n",
       "110778                           0               1  "
      ]
     },
     "execution_count": 5,
     "metadata": {},
     "output_type": "execute_result"
    }
   ],
   "source": [
    "dfGPS.iloc[:,2:16].sample(5)"
   ]
  },
  {
   "cell_type": "code",
   "execution_count": 6,
   "metadata": {},
   "outputs": [],
   "source": [
    "dfGPS['Miejscowość'] = dfGPS['Miejscowość'].map(lambda x: x.lower())\n",
    "dfGPS['Miejscowość'].value_counts(normalize=True) \n",
    "vc =dfGPS['Miejscowość'].value_counts().reset_index()\n",
    "vc\n",
    "other_city = set(vc[vc.Miejscowość<10]['index'].unique())\n",
    "dfGPS['Miejscowość_cat'] = dfGPS['Miejscowość'].map(lambda x: 'other' if x in other_city else x)\n",
    "dfGPS['Miejscowość_cat'].value_counts()\n",
    "dfGPS['Miejscowość_cat'] = pd.factorize( dfGPS['Miejscowość_cat'])[0]\n",
    "dfGPS['Miejscowość_cat'] = dfGPS['Miejscowość_cat'].map(lambda x: x+1)"
   ]
  },
  {
   "cell_type": "code",
   "execution_count": 7,
   "metadata": {},
   "outputs": [],
   "source": [
    "dfGPS['Numer_drogi_cat'] = dfGPS['Numer drogi'].fillna(-1)\n",
    "dfGPS['Numer drogi'].value_counts(normalize=True) \n",
    "vc =dfGPS['Numer drogi'].value_counts().reset_index()\n",
    "other_city = set(vc[vc['Numer drogi']<2]['index'].unique())\n",
    "dfGPS['Numer_drogi_cat'] = dfGPS['Numer drogi'].map(lambda x: 'other' if x in other_city else x)\n",
    "dfGPS['Numer_drogi_cat'].value_counts()\n",
    "dfGPS['Numer_drogi_cat'] = pd.factorize( dfGPS['Numer_drogi_cat'])[0]\n",
    "dfGPS['Numer_drogi_cat'] = dfGPS['Numer_drogi_cat'].map(lambda x: x+1)\n",
    "\n",
    "dfGPS['MiejscowoscUlica'] = dfGPS['Miejscowość'] + dfGPS['Ulica']\n",
    "dfGPS['MiejscowoscUlica'].fillna(-1, inplace=True)\n",
    "dfGPS['MiejscowoscUlica'].value_counts(normalize=True) \n",
    "vc =dfGPS['MiejscowoscUlica'].value_counts().reset_index()\n",
    "other_city = set(vc[vc['MiejscowoscUlica']==1]['index'].unique())\n",
    "dfGPS['MiejscowoscUlica'] = dfGPS['MiejscowoscUlica'].map(lambda x: 'other' if x in other_city else x)\n",
    "dfGPS['MiejscowoscUlica'] = pd.factorize( dfGPS['MiejscowoscUlica'])[0]\n",
    "dfGPS['MiejscowoscUlica'] = dfGPS['MiejscowoscUlica'].map(lambda x: x+1)"
   ]
  },
  {
   "cell_type": "code",
   "execution_count": 8,
   "metadata": {},
   "outputs": [],
   "source": [
    "dfGPS2016 = dfGPS[dfGPS['rok']==2016]\n",
    "dfGPS2017 = dfGPS[dfGPS['rok']==2017]\n",
    "dfGPS2018 = dfGPS[dfGPS['rok']==2018]"
   ]
  },
  {
   "cell_type": "code",
   "execution_count": 360,
   "metadata": {},
   "outputs": [],
   "source": [
    "df[6] = df[0].map(lambda x:0) #zdarzenia\n",
    "df[7] = df[0].map(lambda x:0) #wypadke\n",
    "df[8] = df[0].map(lambda x:0) #zabity\n",
    "df[9] = df[0].map(lambda x:0) #ranny\n",
    "df[10] = df[0].map(lambda x:0) #miejscowość\n",
    "df[11] = df[0].map(lambda x:0) #droga\n",
    "df[12] = df[0].map(lambda x:0) #miejscowość ulica\n",
    "df[13] = df[0].map(lambda x:0)\n",
    "df2016a = df.copy()\n",
    "df2017a = df.copy()\n",
    "df2018a = df.copy()"
   ]
  },
  {
   "cell_type": "code",
   "execution_count": 10,
   "metadata": {},
   "outputs": [
    {
     "name": "stderr",
     "output_type": "stream",
     "text": [
      "/anaconda3/lib/python3.6/site-packages/pandas/core/indexing.py:543: SettingWithCopyWarning: \n",
      "A value is trying to be set on a copy of a slice from a DataFrame.\n",
      "Try using .loc[row_indexer,col_indexer] = value instead\n",
      "\n",
      "See the caveats in the documentation: http://pandas.pydata.org/pandas-docs/stable/indexing.html#indexing-view-versus-copy\n",
      "  self.obj[item] = s\n"
     ]
    }
   ],
   "source": [
    "dfGPS2016.loc[:,'GPS_X_sekundy'] = dfGPS2016.loc[:,'GPS_X_sekundy'].map(lambda x:x/100)\n",
    "dfGPS2016.loc[:,'GPS_X_sekundy'] = dfGPS2016.loc[:,'GPS_X_sekundy'].astype('int8')\n",
    "dfGPS2016.loc[:,'GPS_Y_sekundy'] = dfGPS2016.loc[:,'GPS_Y_sekundy'].map(lambda x:x/50)\n",
    "dfGPS2016.loc[:,'GPS_Y_sekundy'] = dfGPS2016.loc[:,'GPS_Y_sekundy'].astype('int8')"
   ]
  },
  {
   "cell_type": "code",
   "execution_count": 11,
   "metadata": {},
   "outputs": [
    {
     "name": "stderr",
     "output_type": "stream",
     "text": [
      "/anaconda3/lib/python3.6/site-packages/pandas/core/indexing.py:543: SettingWithCopyWarning: \n",
      "A value is trying to be set on a copy of a slice from a DataFrame.\n",
      "Try using .loc[row_indexer,col_indexer] = value instead\n",
      "\n",
      "See the caveats in the documentation: http://pandas.pydata.org/pandas-docs/stable/indexing.html#indexing-view-versus-copy\n",
      "  self.obj[item] = s\n"
     ]
    }
   ],
   "source": [
    "dfGPS2017.loc[:,'GPS_X_sekundy'] = dfGPS2017.loc[:,'GPS_X_sekundy'].map(lambda x:x/100)\n",
    "dfGPS2017.loc[:,'GPS_X_sekundy'] = dfGPS2017.loc[:,'GPS_X_sekundy'].astype('int8')\n",
    "dfGPS2017.loc[:,'GPS_Y_sekundy'] = dfGPS2017.loc[:,'GPS_Y_sekundy'].map(lambda x:x/50)\n",
    "dfGPS2017.loc[:,'GPS_Y_sekundy'] = dfGPS2017.loc[:,'GPS_Y_sekundy'].astype('int8')"
   ]
  },
  {
   "cell_type": "code",
   "execution_count": 12,
   "metadata": {},
   "outputs": [
    {
     "name": "stderr",
     "output_type": "stream",
     "text": [
      "/anaconda3/lib/python3.6/site-packages/pandas/core/indexing.py:543: SettingWithCopyWarning: \n",
      "A value is trying to be set on a copy of a slice from a DataFrame.\n",
      "Try using .loc[row_indexer,col_indexer] = value instead\n",
      "\n",
      "See the caveats in the documentation: http://pandas.pydata.org/pandas-docs/stable/indexing.html#indexing-view-versus-copy\n",
      "  self.obj[item] = s\n"
     ]
    }
   ],
   "source": [
    "dfGPS2018.loc[:,'GPS_X_sekundy'] = dfGPS2018.loc[:,'GPS_X_sekundy'].map(lambda x:x/100)\n",
    "dfGPS2018.loc[:,'GPS_X_sekundy'] = dfGPS2018.loc[:,'GPS_X_sekundy'].astype('int8')\n",
    "dfGPS2018.loc[:,'GPS_Y_sekundy'] = dfGPS2018.loc[:,'GPS_Y_sekundy'].map(lambda x:x/50)\n",
    "dfGPS2018.loc[:,'GPS_Y_sekundy'] = dfGPS2018.loc[:,'GPS_Y_sekundy'].astype('int8')"
   ]
  },
  {
   "cell_type": "code",
   "execution_count": 59,
   "metadata": {},
   "outputs": [
    {
     "name": "stderr",
     "output_type": "stream",
     "text": [
      "100%|██████████| 53260/53260 [19:20<00:00, 45.90it/s]\n"
     ]
    }
   ],
   "source": [
    "for i in  tqdm(range(dfGPS2016.shape[0])):\n",
    "    \n",
    "    a = df2016a.iloc[:,0]==dfGPS2016.iloc[i,20]\n",
    "    b = df2016a.iloc[:,1]==dfGPS2016.iloc[i,21]\n",
    "    c = df2016a.iloc[:,2]==dfGPS2016.iloc[i,22]\n",
    "    d = df2016a.iloc[:,3]==dfGPS2016.iloc[i,23]\n",
    "    e = df2016a.iloc[:,4]==dfGPS2016.iloc[i,24]\n",
    "    f = df2016a.iloc[:,5]==dfGPS2016.iloc[i,25]\n",
    "    x = df2016a[a & b & c & d & e & f].index\n",
    "    if len (x) != 0:\n",
    "        df2016a.iloc[x[0],6]+=1\n",
    "        df2016a.iloc[x[0],7]+=dfGPS2016.iloc[i,12]\n",
    "        df2016a.iloc[x[0],8]+=dfGPS2016.iloc[i,13]\n",
    "        df2016a.iloc[x[0],9]+=dfGPS2016.iloc[i,14]\n",
    "        df2016a.iloc[x[0],10]=dfGPS2016.iloc[i,26]\n",
    "        df2016a.iloc[x[0],11]=dfGPS2016.iloc[i,27]\n",
    "        df2016a.iloc[x[0],12]=dfGPS2016.iloc[i,28]"
   ]
  },
  {
   "cell_type": "code",
   "execution_count": 60,
   "metadata": {},
   "outputs": [
    {
     "name": "stderr",
     "output_type": "stream",
     "text": [
      "100%|██████████| 57668/57668 [20:14<00:00, 47.48it/s]\n"
     ]
    }
   ],
   "source": [
    "for i in  tqdm(range(dfGPS2017.shape[0])):\n",
    "    \n",
    "    a = df2017a.iloc[:,0]==dfGPS2017.iloc[i,20]\n",
    "    b = df2017a.iloc[:,1]==dfGPS2017.iloc[i,21]\n",
    "    c = df2017a.iloc[:,2]==dfGPS2017.iloc[i,22]\n",
    "    d = df2017a.iloc[:,3]==dfGPS2017.iloc[i,23]\n",
    "    e = df2017a.iloc[:,4]==dfGPS2017.iloc[i,24]\n",
    "    f = df2017a.iloc[:,5]==dfGPS2017.iloc[i,25]\n",
    "    x = df2017a[a & b & c & d & e & f].index\n",
    "    if len (x) != 0:\n",
    "        df2017a.iloc[x[0],6]+=1\n",
    "        df2017a.iloc[x[0],7]+=dfGPS2017.iloc[i,12]\n",
    "        df2017a.iloc[x[0],8]+=dfGPS2017.iloc[i,13]\n",
    "        df2017a.iloc[x[0],9]+=dfGPS2017.iloc[i,14]\n",
    "        df2017a.iloc[x[0],10]=dfGPS2017.iloc[i,26]\n",
    "        df2017a.iloc[x[0],11]=dfGPS2017.iloc[i,27]\n",
    "        df2017a.iloc[x[0],12]=dfGPS2017.iloc[i,28]"
   ]
  },
  {
   "cell_type": "code",
   "execution_count": 13,
   "metadata": {},
   "outputs": [
    {
     "name": "stderr",
     "output_type": "stream",
     "text": [
      "100%|██████████| 57634/57634 [17:50<00:00, 53.85it/s]\n"
     ]
    }
   ],
   "source": [
    "for i in  tqdm(range(dfGPS2018.shape[0])):\n",
    "    \n",
    "    a = df2018a.iloc[:,0]==dfGPS2018.iloc[i,20]\n",
    "    b = df2018a.iloc[:,1]==dfGPS2018.iloc[i,21]\n",
    "    c = df2018a.iloc[:,2]==dfGPS2018.iloc[i,22]\n",
    "    d = df2018a.iloc[:,3]==dfGPS2018.iloc[i,23]\n",
    "    e = df2018a.iloc[:,4]==dfGPS2018.iloc[i,24]\n",
    "    f = df2018a.iloc[:,5]==dfGPS2018.iloc[i,25]\n",
    "    x = df2018a[a & b & c & d & e & f].index\n",
    "    if len (x) != 0:\n",
    "        df2018a.iloc[x[0],6]+=1\n",
    "        df2018a.iloc[x[0],7]+=dfGPS2018.iloc[i,12]\n",
    "        df2018a.iloc[x[0],8]+=dfGPS2018.iloc[i,13]\n",
    "        df2018a.iloc[x[0],9]+=dfGPS2018.iloc[i,14]\n",
    "        df2018a.iloc[x[0],10]=dfGPS2018.iloc[i,26]\n",
    "        df2018a.iloc[x[0],11]=dfGPS2018.iloc[i,27]\n",
    "        df2018a.iloc[x[0],12]=dfGPS2018.iloc[i,28]"
   ]
  },
  {
   "cell_type": "code",
   "execution_count": 66,
   "metadata": {},
   "outputs": [],
   "source": [
    "df2016a.to_csv('../output/GPS2016c.csv', index=False, header=True)\n",
    "df2017a.to_csv('../output/GPS2017c.csv', index=False, header=True)\n",
    "df2018a.to_csv('../output/GPS2018c.csv', index=False, header=True)"
   ]
  },
  {
   "cell_type": "code",
   "execution_count": null,
   "metadata": {},
   "outputs": [],
   "source": []
  }
 ],
 "metadata": {
  "kernelspec": {
   "display_name": "Python 3",
   "language": "python",
   "name": "python3"
  },
  "language_info": {
   "codemirror_mode": {
    "name": "ipython",
    "version": 3
   },
   "file_extension": ".py",
   "mimetype": "text/x-python",
   "name": "python",
   "nbconvert_exporter": "python",
   "pygments_lexer": "ipython3",
   "version": "3.7.4"
  }
 },
 "nbformat": 4,
 "nbformat_minor": 2
}
