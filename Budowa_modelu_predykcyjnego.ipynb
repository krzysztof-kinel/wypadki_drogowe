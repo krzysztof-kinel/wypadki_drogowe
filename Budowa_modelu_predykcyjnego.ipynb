{
 "cells": [
  {
   "cell_type": "code",
   "execution_count": 2,
   "metadata": {},
   "outputs": [],
   "source": [
    "import pandas as pd\n",
    "import numpy as np\n",
    "import matplotlib.pyplot as plt\n",
    "from sklearn.metrics import accuracy_score\n",
    "%matplotlib inline\n",
    "from sklearn.metrics import precision_score, recall_score\n",
    "from sklearn.tree import DecisionTreeClassifier\n",
    "from sklearn.ensemble import RandomForestClassifier\n",
    "import xgboost as xgb\n",
    "from sklearn.linear_model import LinearRegression\n",
    "from sklearn.model_selection import train_test_split, StratifiedKFold\n",
    "from sklearn.model_selection import KFold\n",
    "np.random.seed(2018)"
   ]
  },
  {
   "cell_type": "code",
   "execution_count": 3,
   "metadata": {},
   "outputs": [],
   "source": [
    "from sklearn.model_selection import KFold, StratifiedKFold"
   ]
  },
  {
   "cell_type": "code",
   "execution_count": 4,
   "metadata": {},
   "outputs": [],
   "source": [
    "df2016 = pd.read_csv('../output/GPS2016c.csv')\n",
    "df2017 = pd.read_csv('../output/GPS2017c.csv')\n",
    "df2018 = pd.read_csv('../output/GPS2018c.csv')"
   ]
  },
  {
   "cell_type": "code",
   "execution_count": 5,
   "metadata": {},
   "outputs": [],
   "source": [
    "df2016['rok'] = 2016\n",
    "df2017['rok'] = 2017\n",
    "df2018['rok'] = 2018\n",
    "df = pd.concat([df2016, df2017, df2018])"
   ]
  },
  {
   "cell_type": "code",
   "execution_count": 6,
   "metadata": {},
   "outputs": [],
   "source": [
    "df.columns = ['GPS_X_stopnie', 'GPS_X_minuty', 'GPS_X_sekundy', 'GPS_Y_stopnie', 'GPS_Y_minuty','GPS_Y_sekundy',\n",
    "             'Zdarzenia', 'Wypadki', 'Zabici', 'Ranni', 'miejscowość', 'droga', 'ulica','rok']\n",
    "\n",
    "lista = df.groupby('miejscowość')['Wypadki'].agg( np.mean)\n",
    "def mean_woj (value):\n",
    "    return (lista[value])\n",
    "\n",
    "df['miejscowość_wypadek'] = df['miejscowość'].map(mean_woj)\n",
    "\n",
    "lista = df.groupby('droga')['Wypadki'].agg( np.mean)\n",
    "def mean_woj (value):\n",
    "    return (lista[value])\n",
    "\n",
    "df['droga_wypadek'] = df['droga'].map(mean_woj)\n",
    "\n",
    "lista = df.groupby('ulica')['Wypadki'].agg( np.mean)\n",
    "def mean_woj (value):\n",
    "    return (lista[value])\n",
    "\n",
    "df['ulica_wypadek'] = df['ulica'].map(mean_woj)"
   ]
  },
  {
   "cell_type": "code",
   "execution_count": 7,
   "metadata": {
    "scrolled": true
   },
   "outputs": [
    {
     "name": "stderr",
     "output_type": "stream",
     "text": [
      "/Users/kris/opt/anaconda3/lib/python3.7/site-packages/pandas/core/frame.py:4102: SettingWithCopyWarning: \n",
      "A value is trying to be set on a copy of a slice from a DataFrame\n",
      "\n",
      "See the caveats in the documentation: http://pandas.pydata.org/pandas-docs/stable/user_guide/indexing.html#returning-a-view-versus-a-copy\n",
      "  errors=errors,\n"
     ]
    }
   ],
   "source": [
    "df2016 = df[df['rok']==2016]\n",
    "df2017 = df[df['rok']==2017]\n",
    "df2018 = df[df['rok']==2018]\n",
    "df2016.drop(columns ='rok', inplace=True)\n",
    "df2017.drop(columns ='rok', inplace=True)\n",
    "df2018.drop(columns ='rok', inplace=True)\n",
    "\n"
   ]
  },
  {
   "cell_type": "code",
   "execution_count": 8,
   "metadata": {},
   "outputs": [],
   "source": [
    "X_train = df2016.values\n",
    "y_train = df2017.iloc[:,7].map (lambda x : 1 if x>0 else 0)\n",
    "X_test = df2017.values\n",
    "y_test = df2018.iloc[:,7].map (lambda x : 1 if x>0 else 0)"
   ]
  },
  {
   "cell_type": "code",
   "execution_count": 9,
   "metadata": {
    "scrolled": true
   },
   "outputs": [
    {
     "name": "stdout",
     "output_type": "stream",
     "text": [
      "Metryka sukcesu dla metody naiwnej 0.18242343541944075\n",
      "3004\n",
      "2741\n"
     ]
    }
   ],
   "source": [
    "print('Metryka sukcesu dla metody naiwnej',precision_score(y_test, y_train))\n",
    "print (y_train.sum())\n",
    "print (y_test.sum())"
   ]
  },
  {
   "cell_type": "code",
   "execution_count": 12,
   "metadata": {},
   "outputs": [
    {
     "name": "stdout",
     "output_type": "stream",
     "text": [
      "0.6883116883116883\n",
      "Ilość wytypowanych obszarów:  77\n",
      "Ilość rzeczywistych oszarów:  2741\n"
     ]
    }
   ],
   "source": [
    "model1 = xgb.XGBClassifier(max_depth=3, n_estimators=10, seed=2018, learning_rate=0.1)\n",
    "model1.fit(X_train, y_train)\n",
    "y_predXGB = model1.predict(X_test)\n",
    "print(precision_score(y_test, y_predXGB))\n",
    "print (\"Ilość wytypowanych obszarów: \",y_predXGB.sum())\n",
    "print (\"Ilość rzeczywistych oszarów: \",y_test.sum())"
   ]
  },
  {
   "cell_type": "code",
   "execution_count": 10,
   "metadata": {
    "scrolled": true
   },
   "outputs": [
    {
     "name": "stdout",
     "output_type": "stream",
     "text": [
      "0.5670498084291188\n",
      "Ilość wytypowanych obszarów:  261\n",
      "Ilość rzeczywistych oszarów:  2741\n"
     ]
    }
   ],
   "source": [
    "model = xgb.XGBClassifier(max_depth=4, n_estimators=30, seed=2018)\n",
    "model.fit(X_train, y_train)\n",
    "y_pred = model.predict(X_test)\n",
    "print(precision_score(y_test, y_pred))\n",
    "print (\"Ilość wytypowanych obszarów: \",y_pred.sum())\n",
    "print (\"Ilość rzeczywistych oszarów: \",y_test.sum())"
   ]
  },
  {
   "cell_type": "code",
   "execution_count": 13,
   "metadata": {},
   "outputs": [],
   "source": [
    "y_pred = pd.Series(y_pred)\n",
    "y_test = pd.Series(y_test)"
   ]
  },
  {
   "cell_type": "code",
   "execution_count": 14,
   "metadata": {},
   "outputs": [
    {
     "data": {
      "text/plain": [
       "(261,)"
      ]
     },
     "execution_count": 14,
     "metadata": {},
     "output_type": "execute_result"
    }
   ],
   "source": [
    "lista = y_pred[y_pred==1].index\n",
    "lista.shape"
   ]
  },
  {
   "cell_type": "code",
   "execution_count": 15,
   "metadata": {},
   "outputs": [],
   "source": [
    "dfGPS= pd.DataFrame(np.random.randint(0,1, (lista.shape[0], 11)))"
   ]
  },
  {
   "cell_type": "code",
   "execution_count": 16,
   "metadata": {},
   "outputs": [],
   "source": [
    "for i in range (lista.shape[0]):\n",
    "    dfGPS.iloc[i,0] = df2018.iloc[lista[i],0]\n",
    "    dfGPS.iloc[i,1] = df2018.iloc[lista[i],1]\n",
    "    dfGPS.iloc[i,2] = df2018.iloc[lista[i],2]\n",
    "    dfGPS.iloc[i,3] = df2018.iloc[lista[i],3]\n",
    "    dfGPS.iloc[i,4] = df2018.iloc[lista[i],4]\n",
    "    dfGPS.iloc[i,5] = df2018.iloc[lista[i],5]\n",
    "    dfGPS.iloc[i,8] = df2018.iloc[lista[i],13]\n",
    "    dfGPS.iloc[i,9] = df2018.iloc[lista[i],14]\n",
    "    dfGPS.iloc[i,10] = df2018.iloc[lista[i],15]"
   ]
  },
  {
   "cell_type": "code",
   "execution_count": 17,
   "metadata": {},
   "outputs": [],
   "source": [
    "dfGPS.iloc[:,2] = dfGPS.iloc[:,2].map(lambda x : x*10)\n",
    "dfGPS.iloc[:,5] = dfGPS.iloc[:,5].map(lambda x : x*5)"
   ]
  },
  {
   "cell_type": "code",
   "execution_count": 18,
   "metadata": {},
   "outputs": [
    {
     "data": {
      "text/plain": [
       "(261, 11)"
      ]
     },
     "execution_count": 18,
     "metadata": {},
     "output_type": "execute_result"
    }
   ],
   "source": [
    "dfGPS.shape"
   ]
  },
  {
   "cell_type": "code",
   "execution_count": 20,
   "metadata": {},
   "outputs": [],
   "source": [
    "dfGPS.iloc[:,7] = dfGPS.iloc[:,0].map(lambda x: x) + (dfGPS.iloc[:,1].map(lambda x: x)/60) + ((dfGPS.iloc[:,2].map(lambda x: x)+5)/3600)\n",
    "dfGPS.iloc[:,6] = dfGPS.iloc[:,3].map(lambda x: x) + (dfGPS.iloc[:,4].map(lambda x: x)/60) + ((dfGPS.iloc[:,5].map(lambda x: x)+2.5)/3600)"
   ]
  },
  {
   "cell_type": "code",
   "execution_count": 21,
   "metadata": {},
   "outputs": [
    {
     "data": {
      "text/html": [
       "<div>\n",
       "<style scoped>\n",
       "    .dataframe tbody tr th:only-of-type {\n",
       "        vertical-align: middle;\n",
       "    }\n",
       "\n",
       "    .dataframe tbody tr th {\n",
       "        vertical-align: top;\n",
       "    }\n",
       "\n",
       "    .dataframe thead th {\n",
       "        text-align: right;\n",
       "    }\n",
       "</style>\n",
       "<table border=\"1\" class=\"dataframe\">\n",
       "  <thead>\n",
       "    <tr style=\"text-align: right;\">\n",
       "      <th></th>\n",
       "      <th>0</th>\n",
       "      <th>1</th>\n",
       "      <th>2</th>\n",
       "      <th>3</th>\n",
       "      <th>4</th>\n",
       "      <th>5</th>\n",
       "      <th>6</th>\n",
       "      <th>7</th>\n",
       "      <th>8</th>\n",
       "      <th>9</th>\n",
       "      <th>10</th>\n",
       "    </tr>\n",
       "  </thead>\n",
       "  <tbody>\n",
       "    <tr>\n",
       "      <td>0</td>\n",
       "      <td>18</td>\n",
       "      <td>33</td>\n",
       "      <td>20</td>\n",
       "      <td>49</td>\n",
       "      <td>56</td>\n",
       "      <td>30</td>\n",
       "      <td>49.942361</td>\n",
       "      <td>18.556944</td>\n",
       "      <td>0.215475</td>\n",
       "      <td>0.402597</td>\n",
       "      <td>0.416667</td>\n",
       "    </tr>\n",
       "    <tr>\n",
       "      <td>1</td>\n",
       "      <td>18</td>\n",
       "      <td>35</td>\n",
       "      <td>40</td>\n",
       "      <td>49</td>\n",
       "      <td>57</td>\n",
       "      <td>10</td>\n",
       "      <td>49.953472</td>\n",
       "      <td>18.595833</td>\n",
       "      <td>0.215475</td>\n",
       "      <td>0.388889</td>\n",
       "      <td>0.714286</td>\n",
       "    </tr>\n",
       "    <tr>\n",
       "      <td>2</td>\n",
       "      <td>18</td>\n",
       "      <td>36</td>\n",
       "      <td>50</td>\n",
       "      <td>49</td>\n",
       "      <td>56</td>\n",
       "      <td>45</td>\n",
       "      <td>49.946528</td>\n",
       "      <td>18.615278</td>\n",
       "      <td>0.215475</td>\n",
       "      <td>0.282609</td>\n",
       "      <td>0.485714</td>\n",
       "    </tr>\n",
       "    <tr>\n",
       "      <td>3</td>\n",
       "      <td>18</td>\n",
       "      <td>38</td>\n",
       "      <td>10</td>\n",
       "      <td>49</td>\n",
       "      <td>45</td>\n",
       "      <td>5</td>\n",
       "      <td>49.752083</td>\n",
       "      <td>18.637500</td>\n",
       "      <td>0.153710</td>\n",
       "      <td>0.086058</td>\n",
       "      <td>0.176471</td>\n",
       "    </tr>\n",
       "    <tr>\n",
       "      <td>4</td>\n",
       "      <td>18</td>\n",
       "      <td>38</td>\n",
       "      <td>20</td>\n",
       "      <td>49</td>\n",
       "      <td>44</td>\n",
       "      <td>50</td>\n",
       "      <td>49.747917</td>\n",
       "      <td>18.640278</td>\n",
       "      <td>0.153710</td>\n",
       "      <td>1.000000</td>\n",
       "      <td>1.000000</td>\n",
       "    </tr>\n",
       "  </tbody>\n",
       "</table>\n",
       "</div>"
      ],
      "text/plain": [
       "    0   1   2   3   4   5          6          7         8         9        10\n",
       "0  18  33  20  49  56  30  49.942361  18.556944  0.215475  0.402597  0.416667\n",
       "1  18  35  40  49  57  10  49.953472  18.595833  0.215475  0.388889  0.714286\n",
       "2  18  36  50  49  56  45  49.946528  18.615278  0.215475  0.282609  0.485714\n",
       "3  18  38  10  49  45   5  49.752083  18.637500  0.153710  0.086058  0.176471\n",
       "4  18  38  20  49  44  50  49.747917  18.640278  0.153710  1.000000  1.000000"
      ]
     },
     "execution_count": 21,
     "metadata": {},
     "output_type": "execute_result"
    }
   ],
   "source": [
    "dfGPS.head()"
   ]
  },
  {
   "cell_type": "code",
   "execution_count": 174,
   "metadata": {},
   "outputs": [],
   "source": [
    "dfGPS.to_csv('../output/GPSWypadki2018(56%).csv', index=False, header=True)"
   ]
  },
  {
   "cell_type": "markdown",
   "metadata": {},
   "source": [
    "# Predykcja 2019"
   ]
  },
  {
   "cell_type": "code",
   "execution_count": 10,
   "metadata": {},
   "outputs": [],
   "source": [
    "X_test_2018 = df2018.values"
   ]
  },
  {
   "cell_type": "code",
   "execution_count": 11,
   "metadata": {
    "scrolled": true
   },
   "outputs": [
    {
     "name": "stdout",
     "output_type": "stream",
     "text": [
      "239\n"
     ]
    },
    {
     "name": "stderr",
     "output_type": "stream",
     "text": [
      "/anaconda3/lib/python3.6/site-packages/sklearn/preprocessing/label.py:151: DeprecationWarning: The truth value of an empty array is ambiguous. Returning False, but in future this will result in an error. Use `array.size > 0` to check that an array is not empty.\n",
      "  if diff:\n"
     ]
    }
   ],
   "source": [
    "model.fit(X_train, y_train)\n",
    "y_pred = model.predict(X_test_2018)\n",
    "print (y_pred.sum())"
   ]
  },
  {
   "cell_type": "code",
   "execution_count": 12,
   "metadata": {},
   "outputs": [
    {
     "data": {
      "text/plain": [
       "(239,)"
      ]
     },
     "execution_count": 12,
     "metadata": {},
     "output_type": "execute_result"
    }
   ],
   "source": [
    "y_pred = pd.Series(y_pred)\n",
    "lista = y_pred[y_pred==1].index\n",
    "lista.shape"
   ]
  },
  {
   "cell_type": "code",
   "execution_count": 193,
   "metadata": {},
   "outputs": [],
   "source": [
    "dfGPS= pd.DataFrame(np.random.randint(0,1, (lista.shape[0], 10)))"
   ]
  },
  {
   "cell_type": "code",
   "execution_count": 194,
   "metadata": {},
   "outputs": [],
   "source": [
    "for i in range (lista.shape[0]):\n",
    "    dfGPS.iloc[i,0] = df2018.iloc[lista[i],0]\n",
    "    dfGPS.iloc[i,1] = df2018.iloc[lista[i],1]\n",
    "    dfGPS.iloc[i,2] = df2018.iloc[lista[i],2]\n",
    "    dfGPS.iloc[i,3] = df2018.iloc[lista[i],3]\n",
    "    dfGPS.iloc[i,4] = df2018.iloc[lista[i],4]\n",
    "    dfGPS.iloc[i,5] = df2018.iloc[lista[i],5]"
   ]
  },
  {
   "cell_type": "code",
   "execution_count": 195,
   "metadata": {},
   "outputs": [],
   "source": [
    "dfGPS.iloc[:,2] = dfGPS.iloc[:,2].map(lambda x : x*10)\n",
    "dfGPS.iloc[:,5] = dfGPS.iloc[:,5].map(lambda x : x*5)"
   ]
  },
  {
   "cell_type": "code",
   "execution_count": 196,
   "metadata": {},
   "outputs": [],
   "source": [
    "dfGPS.iloc[:,6] = dfGPS.iloc[:,0].map(lambda x: x) + (dfGPS.iloc[:,1].map(lambda x: x)/60) + ((dfGPS.iloc[:,2].map(lambda x: x)+5)/3600)\n",
    "dfGPS.iloc[:,7] = dfGPS.iloc[:,3].map(lambda x: x) + (dfGPS.iloc[:,4].map(lambda x: x)/60) + ((dfGPS.iloc[:,5].map(lambda x: x)+2.5)/3600)"
   ]
  },
  {
   "cell_type": "code",
   "execution_count": 197,
   "metadata": {},
   "outputs": [],
   "source": [
    "dfGPS.to_csv('../output/PredykcjaWypadki2019(56%).csv', index=False, header=True)"
   ]
  },
  {
   "cell_type": "code",
   "execution_count": 14,
   "metadata": {},
   "outputs": [],
   "source": [
    "df2019 = pd.read_csv('../output/GPS2019.csv')"
   ]
  },
  {
   "cell_type": "code",
   "execution_count": 15,
   "metadata": {},
   "outputs": [],
   "source": [
    "y_test = df2019.iloc[:,6].map (lambda x : 1 if x>0 else 0)"
   ]
  },
  {
   "cell_type": "code",
   "execution_count": 16,
   "metadata": {},
   "outputs": [
    {
     "data": {
      "text/plain": [
       "544"
      ]
     },
     "execution_count": 16,
     "metadata": {},
     "output_type": "execute_result"
    }
   ],
   "source": [
    "y_test.sum()"
   ]
  },
  {
   "cell_type": "code",
   "execution_count": 17,
   "metadata": {},
   "outputs": [
    {
     "data": {
      "text/plain": [
       "569"
      ]
     },
     "execution_count": 17,
     "metadata": {},
     "output_type": "execute_result"
    }
   ],
   "source": [
    "df2019.iloc[:,6].sum()"
   ]
  },
  {
   "cell_type": "code",
   "execution_count": 19,
   "metadata": {
    "scrolled": true
   },
   "outputs": [
    {
     "name": "stdout",
     "output_type": "stream",
     "text": [
      "predykcja wypadków styczeń - luty 0.11297071129707113\n"
     ]
    }
   ],
   "source": [
    "print('predykcja wypadków styczeń - luty',precision_score(y_test, y_pred))"
   ]
  },
  {
   "cell_type": "code",
   "execution_count": 18,
   "metadata": {},
   "outputs": [
    {
     "name": "stdout",
     "output_type": "stream",
     "text": [
      "predykcja wypadków styczeń - marzec 0.19246861924686193\n"
     ]
    }
   ],
   "source": [
    "print('predykcja wypadków styczeń - marzec',precision_score(y_test, y_pred))"
   ]
  },
  {
   "cell_type": "code",
   "execution_count": null,
   "metadata": {},
   "outputs": [],
   "source": []
  }
 ],
 "metadata": {
  "kernelspec": {
   "display_name": "Python 3",
   "language": "python",
   "name": "python3"
  },
  "language_info": {
   "codemirror_mode": {
    "name": "ipython",
    "version": 3
   },
   "file_extension": ".py",
   "mimetype": "text/x-python",
   "name": "python",
   "nbconvert_exporter": "python",
   "pygments_lexer": "ipython3",
   "version": "3.7.4"
  }
 },
 "nbformat": 4,
 "nbformat_minor": 2
}
